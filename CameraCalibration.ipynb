{
 "cells": [
  {
   "cell_type": "code",
   "execution_count": 2,
   "metadata": {},
   "outputs": [],
   "source": [
    "import cv2\n",
    "import numpy as np"
   ]
  },
  {
   "cell_type": "code",
   "execution_count": 5,
   "metadata": {},
   "outputs": [],
   "source": [
    "CHECKERBOARD_WIDTH = 9\n",
    "CHECKERBOARD_HEIGHT = 6\n",
    "    \n",
    "expected_points = np.zeros((CHECKERBOARD_HEIGHT*CHECKERBOARD_WIDTH,3), np.float32)\n",
    "expected_points[:,:2] = np.mgrid[0:CHECKERBOARD_WIDTH, 0:CHECKERBOARD_HEIGHT].T.reshape(-1,2)\n",
    "expected_points = expected_points * 0.1\n",
    "\n",
    "object_points = []\n",
    "image_points = []"
   ]
  },
  {
   "cell_type": "code",
   "execution_count": 6,
   "metadata": {},
   "outputs": [
    {
     "name": "stdout",
     "output_type": "stream",
     "text": [
      "Success #1\n",
      "retval = 0.23354581495866109\n",
      "K = [[8.26292456e+04 0.00000000e+00 6.54783493e+02]\n",
      " [0.00000000e+00 8.25564720e+04 4.74009038e+02]\n",
      " [0.00000000e+00 0.00000000e+00 1.00000000e+00]]\n",
      "D = [[-2.37577474e+01]\n",
      " [-2.57973740e-03]\n",
      " [-2.11733383e-02]\n",
      " [-1.03274532e-02]\n",
      " [-1.36062913e-07]]\n",
      "rvecs = [array([[ 1.68477428e-03],\n",
      "       [-1.77362948e-02],\n",
      "       [-8.53387266e-06]])]\n",
      "tvecs = [array([[-0.45243051],\n",
      "       [-0.29721826],\n",
      "       [70.99122922]])]\n"
     ]
    },
    {
     "name": "stderr",
     "output_type": "stream",
     "text": [
      "<ipython-input-6-4d8a8e685638>:41: DeprecationWarning: an integer is required (got type numpy.float32).  Implicit conversion to integers using __int__ is deprecated, and may be removed in a future version of Python.\n",
      "  img = cv2.circle(\n"
     ]
    }
   ],
   "source": [
    "img = cv2.imread('checkboard.jpg')\n",
    "gray = cv2.cvtColor(img, cv2.COLOR_BGR2GRAY)\n",
    "\n",
    "def show_calibration_result():\n",
    "    N_OK = len(object_points)\n",
    "    K = np.zeros((3, 3))\n",
    "    D = np.zeros((4, 1))\n",
    "    rvecs = [np.zeros((1, 1, 3), dtype=np.float64) for i in range(N_OK)]\n",
    "    tvecs = [np.zeros((1, 1, 3), dtype=np.float64) for i in range(N_OK)]\n",
    "\n",
    "    retval, K, D, rvecs, tvecs = \\\n",
    "        cv2.calibrateCamera(\n",
    "            np.array(object_points),\n",
    "            np.array(image_points),\n",
    "            gray.shape[::-1],\n",
    "            K,\n",
    "            D,\n",
    "            rvecs,\n",
    "            tvecs\n",
    "        )\n",
    "\n",
    "    print('retval = %s' % retval)\n",
    "    print('K = %s' % K)\n",
    "    print('D = %s' % D)\n",
    "    print('rvecs = %s' % rvecs)\n",
    "    print('tvecs = %s' % tvecs)\n",
    "\n",
    "\n",
    "\n",
    "\n",
    "ret, corners = cv2.findChessboardCorners(gray,\n",
    "                                         (CHECKERBOARD_WIDTH,\n",
    "                                             CHECKERBOARD_HEIGHT),\n",
    "                                         cv2.CALIB_CB_ADAPTIVE_THRESH+cv2.CALIB_CB_NORMALIZE_IMAGE\n",
    "                                         )\n",
    "if ret:\n",
    "    object_points.append(expected_points)\n",
    "    image_points.append(corners)\n",
    "\n",
    "    for corner in corners:\n",
    "        img = cv2.circle(\n",
    "            img, (corner[0][0], corner[0][1]), 10, (255, 0, 0))\n",
    "\n",
    "    print('Success #%d' % len(object_points))\n",
    "\n",
    "    if len(object_points) >= 1:\n",
    "        show_calibration_result()\n",
    "\n",
    "# cv2.imshow('image', img)"
   ]
  },
  {
   "cell_type": "code",
   "execution_count": null,
   "metadata": {},
   "outputs": [],
   "source": []
  }
 ],
 "metadata": {
  "kernelspec": {
   "display_name": "Python 3",
   "language": "python",
   "name": "python3"
  },
  "language_info": {
   "codemirror_mode": {
    "name": "ipython",
    "version": 3
   },
   "file_extension": ".py",
   "mimetype": "text/x-python",
   "name": "python",
   "nbconvert_exporter": "python",
   "pygments_lexer": "ipython3",
   "version": "3.8.2"
  }
 },
 "nbformat": 4,
 "nbformat_minor": 4
}
